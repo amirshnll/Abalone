{
 "cells": [
  {
   "cell_type": "code",
   "execution_count": null,
   "metadata": {},
   "outputs": [],
   "source": [
    "##### Author : Amir Shokri\n",
    "##### github link : https://github.com/amirshnll/Abalone\n",
    "##### dataset link : http://archive.ics.uci.edu/ml/datasets/Abalone\n",
    "##### email : amirsh.nll@gmail.com"
   ]
  },
  {
   "cell_type": "code",
   "execution_count": 5,
   "metadata": {},
   "outputs": [],
   "source": [
    "import sklearn\n",
    "import numpy as np\n",
    "import pandas as pd\n",
    "import seaborn as sns; sns.set()\n",
    "import matplotlib.pyplot as plt\n",
    "from sklearn.naive_bayes import GaussianNB\n",
    "from sklearn.preprocessing import StandardScaler  \n",
    "from sklearn.model_selection import train_test_split \n",
    "from sklearn.metrics import classification_report, confusion_matrix"
   ]
  },
  {
   "cell_type": "code",
   "execution_count": 6,
   "metadata": {},
   "outputs": [
    {
     "name": "stdout",
     "output_type": "stream",
     "text": [
      "       0      1      2      3       4       5       6       7\n",
      "0      1  0.455  0.365  0.095  0.5140  0.2245  0.1010  0.1500\n",
      "1      1  0.350  0.265  0.090  0.2255  0.0995  0.0485  0.0700\n",
      "2     -1  0.530  0.420  0.135  0.6770  0.2565  0.1415  0.2100\n",
      "3      1  0.440  0.365  0.125  0.5160  0.2155  0.1140  0.1550\n",
      "4      0  0.330  0.255  0.080  0.2050  0.0895  0.0395  0.0550\n",
      "...   ..    ...    ...    ...     ...     ...     ...     ...\n",
      "4172  -1  0.565  0.450  0.165  0.8870  0.3700  0.2390  0.2490\n",
      "4173   1  0.590  0.440  0.135  0.9660  0.4390  0.2145  0.2605\n",
      "4174   1  0.600  0.475  0.205  1.1760  0.5255  0.2875  0.3080\n",
      "4175  -1  0.625  0.485  0.150  1.0945  0.5310  0.2610  0.2960\n",
      "4176   1  0.710  0.555  0.195  1.9485  0.9455  0.3765  0.4950\n",
      "\n",
      "[4177 rows x 8 columns]\n",
      "0       15\n",
      "1        7\n",
      "2        9\n",
      "3       10\n",
      "4        7\n",
      "        ..\n",
      "4172    11\n",
      "4173    10\n",
      "4174     9\n",
      "4175    10\n",
      "4176    12\n",
      "Name: 8, Length: 4177, dtype: int64\n"
     ]
    }
   ],
   "source": [
    "#read file\n",
    "df = pd.read_csv(\"D:\\\\abalone.txt\", header=None)\n",
    "for char in df:\n",
    "    df = df.replace('M','1')\n",
    "    df = df.replace('F','-1')\n",
    "    df = df.replace('I','0')\n",
    "df\n",
    "\n",
    "#separate the feature columns from the target column.\n",
    "features = [0,1,2,3,4,5,6,7]\n",
    "X = df[features]\n",
    "y = df[8]\n",
    "print(X)\n",
    "print(y)"
   ]
  },
  {
   "cell_type": "code",
   "execution_count": 7,
   "metadata": {},
   "outputs": [],
   "source": [
    "#separate the Training data and Test data\n",
    "X_train, X_test, y_train, y_test = train_test_split(X,y,random_state=1, test_size=0.2)\n",
    "# Feature scaling\n",
    "scaler = StandardScaler()  \n",
    "scaler.fit(X_train)\n",
    "X_train = scaler.transform(X_train)  \n",
    "X_test = scaler.transform(X_test)"
   ]
  },
  {
   "cell_type": "code",
   "execution_count": 8,
   "metadata": {},
   "outputs": [],
   "source": [
    "# Finally for the Naive Bayes\n",
    "NB = GaussianNB()\n",
    "NB.fit(X_train, y_train);"
   ]
  },
  {
   "cell_type": "code",
   "execution_count": 9,
   "metadata": {},
   "outputs": [
    {
     "name": "stdout",
     "output_type": "stream",
     "text": [
      "[ 7  9  6  9  8  5 10  8 27  7  9  4 10 11  6  9 10 11 11  9  8 11  6  9\n",
      "  9 11 27  8 11 11  9  9  9  8  5  7 10 11  9 10  9 11 11 10  8  7 11  9\n",
      " 11 10 10  8  9  4 11  9  9  6  8  6  7  8 11 10  7  7 10  9  9  7  9 11\n",
      "  5  9  9  6 11 10  9  9  7  7  8  8  9  8  9  6 11  8  8  7  8 11  5  9\n",
      "  9 11  5  9  8 11  6  8 10  8  8  8 10  9  7 11  8  6  5 10  7  6 11 11\n",
      " 10  5  6  9  7 10  9 10  7 11  8  5  8  7 10  7 10 11  7 11  6  9  8 11\n",
      "  7  9 11 11 10  9 10  5  9 10  8  9 10 10  9 11  9 11 11  5  7  7 11 10\n",
      "  8 10  5 10 11  7  7  9  9 11  5  7 11  9  8  6  6  9 11  8 10 11  5  8\n",
      "  5 11  7 11  6  3  7 10  3  8 11  9  7  7  8  7  8  6 10  7 10  7  7  7\n",
      " 11  9 11  7  7  8  9 10  7  8  8 11 11  8  9  8 10 11  7  4 11  9 10  9\n",
      " 17 10 10  9  6 10  9  7  7  8 11 11 11 11  4 17 11  9  6  9 10 10  7  9\n",
      "  7  9 11  9  8 11  8  9 11  8 27  9  6  9 10 11  9  8 10  5  5  7  4  5\n",
      "  6  9  7  7 11  9  7  9  6 10  9  9 11  7  7 11 11 10 10  7  7  9  7 11\n",
      " 11  7  5 20 11 11  9  4 10 10 10 11  7 11  7  8  8  9  9  7  9  7  8  9\n",
      " 11  3 11 20  5  6 11  9  8  9 18 10 10  9 10  4 11  7  4  9  7 10 11  9\n",
      "  9  4  9  7  7 10  5  7 10  5  8 10 11 11  8  9  7 10  8  3  9  6  5  9\n",
      " 11  5  7 10  7  9  6  9 11  7  9  7  8  8  9 10  8  6  9 10 10  6  9 10\n",
      "  7 11 10 11 10  8 11  5  8  9  8  7  7  9 11  8 10  3  5 10  9 11  9  8\n",
      "  9  7  7  9  9  7  7  9  9  8  7  8 11  7 10 11  7  7 11 10  3  6  7 11\n",
      "  9  7 11  9 11  6 10 11  9 11  8 11  9  8 10  8  5  7 10  9  7 11 11  3\n",
      "  6  6  9 10  6  7  6  9  8 11  8  9  7  5  4  6  6 11  9  7 27  5 10  7\n",
      " 11 11  9  9  8 11 11  9  9  7  5  6  6 10  9  8  7 20 11 11  8  9 10  5\n",
      " 11  9 10 10  9 11  9 11  8 11  6  6 11 11  9  9  5 11  8  7 10 11  9 11\n",
      "  9 11 11  7  8 11  7  7  9  6  7  8  8 11  8  9 10  7  9  6 11  8 11  8\n",
      "  8 11  7  8 11  9 11  3  7 11  7 10  3 11  8 17  7 10  8  5  9  9  3  9\n",
      " 11  8 11  9  6  8 11 11 11 11  9 10  9  6 11  6  6  9 10  7 11 10  5  9\n",
      "  9  9  7 11  8  7  5  7 10 11 10  5 11  5  7  9  9  4 11  7  7 11  6 11\n",
      "  8  6  9  9 11 11  7 11  7 10 11  6  9  8  7 11  9  9  9  6  3  5  9 24\n",
      "  6  6  8  8  8 10  6  8  5 10  9  7  7  7 10  7  7 11 10  9 11  9  8  9\n",
      "  6  8  8  4 11  7  6 11  8 11 10 11  6  6  6 10  6 27 10 11  8 20  9  9\n",
      "  7  9 11 11 11 11 10  9 10  8  9 10  9  8  9  9  9 10  9  8  9  7 11 10\n",
      " 10 11  8 10  6  7  6 11 10  7 11  7  6  6  9  3  7  6  7  7  9  6  8  9\n",
      "  7 10 10  5  9 11 11  6  6  7  7  7 10 10  7  9 11 11 10 10  8  8  9 10\n",
      " 11 11  7 10  9  4  6 10 10 11 10  8  7  6  9 11  9 11  6  7  8  5 10  7\n",
      "  8  8  6  9 10 11  6 11 11  6  8 10  7  5 11  9 11 10 11 11]\n"
     ]
    }
   ],
   "source": [
    "#In the prediction step, the model is used to predict the response for given data.\n",
    "predictions = NB.predict(X_test)\n",
    "print(predictions)"
   ]
  },
  {
   "cell_type": "code",
   "execution_count": 10,
   "metadata": {},
   "outputs": [
    {
     "name": "stdout",
     "output_type": "stream",
     "text": [
      "[[ 0  1  0  0  0  0  0  0  0  0  0  0  0  0  0  0  0  0  0  0  0  0  0  0]\n",
      " [ 0  2  0  0  0  0  0  0  0  0  0  0  0  0  0  0  0  0  0  0  0  0  0  0]\n",
      " [ 0  7  3  1  0  0  0  0  0  0  0  0  0  0  0  0  0  0  0  0  0  0  0  0]\n",
      " [ 0  1  7  9  3  0  0  0  0  0  0  0  0  0  0  0  0  0  0  0  0  0  0  0]\n",
      " [ 0  1  2 16 23  7  3  1  0  0  0  0  0  0  0  0  0  0  0  0  0  0  0  0]\n",
      " [ 0  0  1  9 18 33 10  8  0  1  0  0  0  0  0  0  0  0  0  0  0  0  0  0]\n",
      " [ 0  0  0  3 12 29 23 27  9  4  0  0  0  0  0  0  0  0  0  0  0  0  0  0]\n",
      " [ 0  0  0  1  6 25 22 33 22 23  0  0  0  0  0  0  0  0  0  0  0  0  0  0]\n",
      " [ 0  0  0  2  7 14 14 29 30 46  0  0  0  0  0  0  0  0  0  0  0  0  0  1]\n",
      " [ 0  0  0  0  0  9  8 21 14 38  0  0  0  0  0  0  0  0  0  0  0  0  0  1]\n",
      " [ 0  0  0  0  1  7 12 10 12 17  0  0  0  0  0  0  0  0  1  0  0  0  1  2]\n",
      " [ 0  0  0  0  1  2  3 11  4 18  0  0  0  0  0  0  0  0  0  0  0  0  0  0]\n",
      " [ 0  0  0  0  0  1  3  3  9  7  0  0  0  0  0  1  0  0  0  0  0  0  0  0]\n",
      " [ 0  0  0  0  0  0  3  7  7  4  0  0  0  0  0  0  0  0  0  0  0  0  0  0]\n",
      " [ 0  0  0  0  0  0  1  4  1  2  0  0  0  0  0  1  0  0  1  0  0  0  0  0]\n",
      " [ 0  0  0  0  0  0  2  5  1  2  0  0  0  0  0  1  0  0  0  0  0  0  0  1]\n",
      " [ 0  0  0  0  0  2  0  3  2  3  0  0  0  0  0  0  0  0  0  0  0  0  0  0]\n",
      " [ 0  0  0  0  0  1  1  1  2  1  0  0  0  0  0  0  0  0  1  0  0  0  0  0]\n",
      " [ 0  0  0  0  0  0  0  1  2  1  0  0  0  0  0  0  0  0  0  0  0  0  0  0]\n",
      " [ 0  0  0  0  0  0  0  0  0  1  0  0  0  0  0  0  1  0  1  0  0  0  0  0]\n",
      " [ 0  0  0  0  0  0  0  1  0  0  0  0  0  0  0  0  0  0  0  0  0  0  0  0]\n",
      " [ 0  0  0  0  0  0  0  1  0  1  0  0  0  0  0  0  0  0  0  0  0  0  0  0]\n",
      " [ 0  0  0  0  0  0  0  0  0  0  0  0  0  0  0  0  0  0  0  0  0  0  0  0]\n",
      " [ 0  0  0  0  0  0  0  0  0  0  0  0  0  0  0  0  0  0  0  0  0  0  0  0]]\n",
      "              precision    recall  f1-score   support\n",
      "\n",
      "           2       0.00      0.00      0.00         1\n",
      "           3       0.17      1.00      0.29         2\n",
      "           4       0.23      0.27      0.25        11\n",
      "           5       0.22      0.45      0.30        20\n",
      "           6       0.32      0.43      0.37        53\n",
      "           7       0.25      0.41      0.31        80\n",
      "           8       0.22      0.21      0.22       107\n",
      "           9       0.20      0.25      0.22       132\n",
      "          10       0.26      0.21      0.23       143\n",
      "          11       0.22      0.42      0.29        91\n",
      "          12       0.00      0.00      0.00        63\n",
      "          13       0.00      0.00      0.00        39\n",
      "          14       0.00      0.00      0.00        24\n",
      "          15       0.00      0.00      0.00        21\n",
      "          16       0.00      0.00      0.00        10\n",
      "          17       0.33      0.08      0.13        12\n",
      "          18       0.00      0.00      0.00        10\n",
      "          19       0.00      0.00      0.00         7\n",
      "          20       0.00      0.00      0.00         4\n",
      "          21       0.00      0.00      0.00         3\n",
      "          22       0.00      0.00      0.00         1\n",
      "          23       0.00      0.00      0.00         2\n",
      "          24       0.00      0.00      0.00         0\n",
      "          27       0.00      0.00      0.00         0\n",
      "\n",
      "    accuracy                           0.23       836\n",
      "   macro avg       0.10      0.16      0.11       836\n",
      "weighted avg       0.19      0.23      0.20       836\n",
      "\n"
     ]
    },
    {
     "name": "stderr",
     "output_type": "stream",
     "text": [
      "C:\\ProgramData\\Anaconda3\\lib\\site-packages\\sklearn\\metrics\\_classification.py:1221: UndefinedMetricWarning: Precision and F-score are ill-defined and being set to 0.0 in labels with no predicted samples. Use `zero_division` parameter to control this behavior.\n",
      "  _warn_prf(average, modifier, msg_start, len(result))\n",
      "C:\\ProgramData\\Anaconda3\\lib\\site-packages\\sklearn\\metrics\\_classification.py:1221: UndefinedMetricWarning: Recall and F-score are ill-defined and being set to 0.0 in labels with no true samples. Use `zero_division` parameter to control this behavior.\n",
      "  _warn_prf(average, modifier, msg_start, len(result))\n"
     ]
    }
   ],
   "source": [
    "#Last thing: evaluation of algorithm performance in classifying \n",
    "matrix=confusion_matrix(y_test,predictions)\n",
    "\n",
    "print(confusion_matrix(y_test,predictions))  \n",
    "print(classification_report(y_test,predictions))"
   ]
  },
  {
   "cell_type": "code",
   "execution_count": 11,
   "metadata": {},
   "outputs": [
    {
     "data": {
      "text/plain": [
       "Text(0.5, 257.44, 'Predicted label')"
      ]
     },
     "execution_count": 11,
     "metadata": {},
     "output_type": "execute_result"
    },
    {
     "data": {
      "image/png": "[encoded data removed]",
      "text/plain": [
       "<Figure size 432x288 with 2 Axes>"
      ]
     },
     "metadata": {},
     "output_type": "display_data"
    }
   ],
   "source": [
    "#create heatmap\n",
    "class_names=[0,1] \n",
    "fig, ax = plt.subplots()\n",
    "tick_marks = np.arange(len(class_names))\n",
    "plt.xticks(tick_marks, class_names)\n",
    "plt.yticks(tick_marks, class_names)\n",
    "sns.heatmap(pd.DataFrame(matrix), annot=True, cmap=\"YlGnBu\" ,fmt='g')\n",
    "ax.xaxis.set_label_position(\"top\")\n",
    "plt.tight_layout()\n",
    "plt.title('Confusion matrix', y=1.1)\n",
    "plt.ylabel('Actual label')\n",
    "plt.xlabel('Predicted label')"
   ]
  },
  {
   "cell_type": "code",
   "execution_count": null,
   "metadata": {},
   "outputs": [],
   "source": []
  }
 ],
 "metadata": {
  "kernelspec": {
   "display_name": "Python 3",
   "language": "python",
   "name": "python3"
  },
  "language_info": {
   "codemirror_mode": {
    "name": "ipython",
    "version": 3
   },
   "file_extension": ".py",
   "mimetype": "text/x-python",
   "name": "python",
   "nbconvert_exporter": "python",
   "pygments_lexer": "ipython3",
   "version": "3.8.3"
  }
 },
 "nbformat": 4,
 "nbformat_minor": 4
}
